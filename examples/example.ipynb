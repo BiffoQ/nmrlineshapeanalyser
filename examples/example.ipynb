{
 "cells": [
  {
   "cell_type": "code",
   "execution_count": 5,
   "metadata": {},
   "outputs": [
    {
     "ename": "ModuleNotFoundError",
     "evalue": "No module named 'nmrlineshapeanalyser'",
     "output_type": "error",
     "traceback": [
      "\u001b[1;31m---------------------------------------------------------------------------\u001b[0m",
      "\u001b[1;31mModuleNotFoundError\u001b[0m                       Traceback (most recent call last)",
      "Cell \u001b[1;32mIn[5], line 1\u001b[0m\n\u001b[1;32m----> 1\u001b[0m \u001b[38;5;28;01mfrom\u001b[39;00m \u001b[38;5;21;01mnmrlineshapeanalyser\u001b[39;00m\u001b[38;5;21;01m.\u001b[39;00m\u001b[38;5;21;01msrc\u001b[39;00m\u001b[38;5;21;01m.\u001b[39;00m\u001b[38;5;21;01mnmrlineshapeanalyser\u001b[39;00m\u001b[38;5;21;01m.\u001b[39;00m\u001b[38;5;21;01mcore\u001b[39;00m \u001b[38;5;28;01mimport\u001b[39;00m NMRProcessor\n\u001b[0;32m      3\u001b[0m \u001b[38;5;66;03m# import nmrlineshapeanalyser.src.nmrlineshapeanalyser.core as nmr\u001b[39;00m\n\u001b[0;32m      5\u001b[0m ns \u001b[38;5;241m=\u001b[39m NMRProcessor()\n",
      "\u001b[1;31mModuleNotFoundError\u001b[0m: No module named 'nmrlineshapeanalyser'"
     ]
    }
   ],
   "source": [
    "from nmrlineshapeanalyser.src.nmrlineshapeanalyser.core import NMRProcessor\n",
    "\n",
    "# import nmrlineshapeanalyser.src.nmrlineshapeanalyser.core as nmr\n",
    "\n",
    "ns = NMRProcessor()\n",
    "\n",
    "filepath = r\"C:\\Users\\babdulkadirola\\OneDrive - Delft University of Technology\\Desktop\\Inside Desktop\\PhD_Project\\Freek\\putting_things_in_perspectives\\nmr_data\\ba3_hp_series_data\\240112_17O enriched_F006_Iris_3.2mm_rotor\\2\\pdata\\1\\\\\"\n",
    "\n",
    "ns.load_data(filepath)\n",
    "\n",
    "# #define the range of data\n",
    "x_start = 410\n",
    "\n",
    "x_end = 760\n",
    "\n",
    "# #use the selected range of data to generate x and ydata for the selected range\n",
    "\n",
    "x_region, y_region = ns.select_region(x_start, x_end)\n",
    "\n",
    "# #normalise the selected range of data\n",
    "\n",
    "x_data, y_data = ns.normalize_data(x_region, y_region)\n",
    "\n",
    "# #define initial guesses for the fitting parameters\n",
    "\n",
    "# # Each peak is defined by 5 parameters in order:\n",
    "# # x0 (position), amplitude, width, eta (mixing parameter), offset\n",
    "initial_params = [ \n",
    "                    593.6, 0.12, 40.51, 0.89, -143.115, \n",
    "                \n",
    "                    506.8, 0.12, 40.51, 0.89, -143.115,\n",
    "                    \n",
    "                    653, 0.219, 55.43, 0.52, -1,\n",
    "                    \n",
    "                    ]\n",
    "    \n",
    "fixed_x0 = [False, False, False] # Allow all 3 peak positions to vary\n",
    "\n",
    "# # popt: optimized parameters\n",
    "# # metrics: fitting metrics for each peak\n",
    "# # fitted: fitted curve data\n",
    "popt, metrics, fitted = ns.fit_peaks(x_data, y_data, initial_params, fixed_x0)\n",
    "\n",
    "# #plot the fitted curve\n",
    "\n",
    "fig, axes, components = ns.plot_results(x_data, y_data, fitted, metrics, \n",
    "                                                 popt)\n"
   ]
  }
 ],
 "metadata": {
  "kernelspec": {
   "display_name": "miniconda",
   "language": "python",
   "name": "python3"
  },
  "language_info": {
   "codemirror_mode": {
    "name": "ipython",
    "version": 3
   },
   "file_extension": ".py",
   "mimetype": "text/x-python",
   "name": "python",
   "nbconvert_exporter": "python",
   "pygments_lexer": "ipython3",
   "version": "3.10.9"
  }
 },
 "nbformat": 4,
 "nbformat_minor": 2
}
